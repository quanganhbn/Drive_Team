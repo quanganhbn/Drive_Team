{
  "nbformat": 4,
  "nbformat_minor": 0,
  "metadata": {
    "colab": {
      "name": "Rut gon of Copy Drive Teamv4.3.ipynb",
      "provenance": [],
      "collapsed_sections": [],
      "toc_visible": true,
      "include_colab_link": true
    },
    "kernelspec": {
      "name": "python3",
      "display_name": "Python 3"
    }
  },
  "cells": [
    {
      "cell_type": "markdown",
      "metadata": {
        "id": "view-in-github",
        "colab_type": "text"
      },
      "source": [
        "<a href=\"https://colab.research.google.com/github/quanganhbn/Drive_Team/blob/master/Rut_gon_of_Copy_Drive_Teamv4_3.ipynb\" target=\"_parent\"><img src=\"https://colab.research.google.com/assets/colab-badge.svg\" alt=\"Open In Colab\"/></a>"
      ]
    },
    {
      "cell_type": "markdown",
      "metadata": {
        "id": "V2w7tWhPhbTB"
      },
      "source": [
        "<a href=\"https://github.com/totalleecher/Codemaster\">\n",
        "<img src=\"https://lh3.googleusercontent.com/1pw-tHjrkmMgnr63nxOQStYnpVkieXKP9-1RafDRtHBAQ65cN7GcsNKf4k0rWsB--W8d\" height=100px, align=\"left\"></a>\n",
        "\n",
        "\n",
        "\n",
        "\n",
        "\n",
        "\n",
        "\n",
        "\n",
        "\n",
        "\n",
        "\n",
        "<center><h3>Modified by <a href=\"https://t.me/RapperGi\">Eric Li - Trans : Giang IT</a></h1><h1>Copy File Từ Folder Share vào Team Drive Không Bị Giới Hạn 750GB"
      ]
    },
    {
      "cell_type": "code",
      "metadata": {
        "id": "_1pqEmj2nR3_",
        "cellView": "form",
        "outputId": "fbdd1bfb-eef8-4c59-d9c1-0a12a66ddc91",
        "colab": {
          "base_uri": "https://localhost:8080/"
        }
      },
      "source": [
        "#@markdown <br><center><img src='https://upload.wikimedia.org/wikipedia/commons/thumb/d/da/Google_Drive_logo.png/600px-Google_Drive_logo.png' height=\"50\" alt=\"Gdrive logo\"/></center>\n",
        "#@markdown <center><h3>Tải bản sao lưu Google Drive và khôi phục thư mục Account trong Autoclone。</h3></center><br>\n",
        "#@markdown <h3><b>←</b> Bước 1 : Cài đặt Rclone</h3>\n",
        "\n",
        "!curl https://rclone.org/install.sh | sudo bash\n",
        "###\n",
        "%cd /content/\n",
        "!git clone https://github.com/rappergi/AutoRclone.git\n",
        "###\n",
        "%cd /content/AutoRclone\n",
        "!sudo pip3 install -r requirements.txt\n",
        "\n",
        "from IPython.display import HTML, clear_output\n",
        "clear_output()\n",
        "print(\"Cài Đặt Thành Công 1\")\n",
        "\n",
        "from google.colab import drive\n",
        "drive.mount('/content/drive')\n",
        "!cp /content/drive/My\\ Drive/Config/credentials.json /content/AutoRclone/\n",
        "MODE = \"RESTORE\" #@param [\"BACKUP\", \"RESTORE\"]\n",
        "#备份SA!\n",
        "if MODE == \"BACKUP\": \n",
        "  !rclone copy \"/content/AutoRclone/accounts/\" \"/content/drive/My Drive/accounts/\"\n",
        "elif MODE == \"RESTORE\":\n",
        "  !rclone copy \"/content/drive/My Drive/accounts/\" \"/content/AutoRclone/accounts/\"\n",
        "\n",
        "!bash <(wget -qO- https://git.io/JJNMl)\n",
        "from google.colab import drive\n",
        "drive.mount('/content/drive')\n",
        "\n",
        "MODE = \"RESTORE\" #@param [\"BACKUP\", \"RESTORE\"]\n",
        "#备份SA!\n",
        "if MODE == \"BACKUP\": \n",
        "  !rclone copy \"/root/.config/rclone/rclone.conf\" \"/content/drive/My Drive/gclone/\"\n",
        "elif MODE == \"RESTORE\":\n",
        "  !rclone copy \"/content/drive/My Drive/gclone/\" \"/root/.config/rclone/\"\n",
        "from IPython.display import HTML, clear_output\n",
        "clear_output()\n",
        "print(\"Cài Đặt Thành Công 2\")"
      ],
      "execution_count": null,
      "outputs": [
        {
          "output_type": "stream",
          "text": [
            "Cài Đặt Thành Công\n"
          ],
          "name": "stdout"
        }
      ]
    },
    {
      "cell_type": "code",
      "metadata": {
        "id": "lUyZKS7chofc",
        "cellView": "form"
      },
      "source": [
        "#@markdown <h1> <p><b><center><font color=\"pink\">Bắt đầu sao chép với Gclone</center></h>\n",
        "name = \"khanhdu\" #@param {type:\"string\"}\n",
        "source = \"\" #@param {type:\"string\"}\n",
        "destination = \"\" #@param {type:\"string\"}\n",
        "folder = \"\" #@param {type:\"string\"}\n",
        "cmd = f\"gclone copy {name}:{{{source}}} {name}:{{{destination}}}{folder} --drive-server-side-across-configs --transfers 30 -v\"\n",
        "!$cmd\n",
        "#@markdown <p>- name là tên của Remote trong cài đặt gclone\n",
        "#@markdown <p>- định dạng thư mục sẽ được lưu là /phim/nội địa/Bộ sưu tập Thành Long Không có khoảng trắng được cho phép..</p>\n",
        "#@markdown <p>- Nếu bạn sợ mất tập tin, hãy thực hiện nó một hoặc hai lần và tự động bỏ qua các tài nguyên hiện có。</p>"
      ],
      "execution_count": null,
      "outputs": []
    },
    {
      "cell_type": "code",
      "metadata": {
        "id": "J6UD7xAr1Mte",
        "cellView": "form"
      },
      "source": [
        "#@markdown <h3><b>←</b> Kiểm tra kích thước thư mục</h3>\n",
        "name = \"\" #@param {type:\"string\"}\n",
        "id = \"\" #@param {type:\"string\"}\n",
        "cmd = f\"gclone size {name}:{{{id}}} --disable listr --transfers 10\"\n",
        "!$cmd\n",
        "#@markdown <p>- name là tên của Remote trong cài đặt gclone\n",
        "#@markdown <p>- id có thể là id thư mục nguồn được chia sẻ hoặc id thư mục đã được sao chép"
      ],
      "execution_count": null,
      "outputs": []
    },
    {
      "cell_type": "code",
      "metadata": {
        "id": "sDwfInCbMVsL",
        "cellView": "form"
      },
      "source": [
        "#@markdown <h3> <p><center>Công Cụ Kiểm Tra Tệp Trùng Lặp Gclone</center></h>\n",
        "name = \"\" #@param {type:\"string\"}\n",
        "id = \"\" #@param {type:\"string\"}\n",
        "cmd = f\"gclone dedupe newest {name}:{{{id}}} --drive-server-side-across-configs --disable listr -v --tpslimit 5\"\n",
        "!$cmd\n",
        "#@markdown <p>- name là tên của Remote trong cài đặt gclone\n",
        "#@markdown <p>- id có thể là id thư mục nguồn được chia sẻ hoặc id thư mục đã được sao chép.</p>"
      ],
      "execution_count": null,
      "outputs": []
    }
  ]
}